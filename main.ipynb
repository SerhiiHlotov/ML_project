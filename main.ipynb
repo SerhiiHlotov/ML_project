{
 "cells": [
  {
   "cell_type": "code",
   "execution_count": 33,
   "metadata": {},
   "outputs": [],
   "source": [
    "# importing core functions\n",
    "import pandas as pd\n",
    "import numpy as np\n",
    "import pickle\n",
    "import argparse\n",
    "import logging\n",
    "from rdkit import Chem\n",
    "from rdkit.Chem import AllChem\n",
    "\n",
    "#importing usefull utilities\n",
    "from sklearn.model_selection import train_test_split\n",
    "from sklearn.metrics import mean_squared_error, mean_absolute_error\n",
    "from collections import defaultdict\n",
    "\n",
    "\n",
    "# importing handmade functions\n",
    "from functions.fps_gen_and_dim_red_functions import *\n",
    "from functions.MLmodel_functions import *\n",
    "from functions.best_model_function import find_min_in_dict\n",
    "\n",
    "\n"
   ]
  },
  {
   "cell_type": "code",
   "execution_count": 34,
   "metadata": {},
   "outputs": [],
   "source": [
    "logger = logging.getLogger('my_logger')\n",
    "handler = logging.FileHandler('checking_program_info.log', mode='w', )\n",
    "formater = logging.Formatter('%(asctime)s - %(name)s - %(levelname)s - %(message)s')\n",
    "handler.setLevel(level=logging.DEBUG)\n",
    "handler.setFormatter(fmt=formater)\n",
    "logger.addHandler(handler)\n",
    "\n"
   ]
  },
  {
   "cell_type": "code",
   "execution_count": 35,
   "metadata": {},
   "outputs": [
    {
     "name": "stderr",
     "output_type": "stream",
     "text": [
      "2023-10-26 02:49:49,650|INFO|The beginning of the file\n"
     ]
    }
   ],
   "source": [
    "logger.info('The beginning of the file')"
   ]
  },
  {
   "cell_type": "code",
   "execution_count": 36,
   "metadata": {},
   "outputs": [],
   "source": [
    "full_table = pd.read_csv('esol.csv')\n"
   ]
  },
  {
   "cell_type": "code",
   "execution_count": 37,
   "metadata": {},
   "outputs": [
    {
     "data": {
      "text/html": [
       "<div>\n",
       "<style scoped>\n",
       "    .dataframe tbody tr th:only-of-type {\n",
       "        vertical-align: middle;\n",
       "    }\n",
       "\n",
       "    .dataframe tbody tr th {\n",
       "        vertical-align: top;\n",
       "    }\n",
       "\n",
       "    .dataframe thead th {\n",
       "        text-align: right;\n",
       "    }\n",
       "</style>\n",
       "<table border=\"1\" class=\"dataframe\">\n",
       "  <thead>\n",
       "    <tr style=\"text-align: right;\">\n",
       "      <th></th>\n",
       "      <th>SMILES</th>\n",
       "      <th>values</th>\n",
       "    </tr>\n",
       "  </thead>\n",
       "  <tbody>\n",
       "    <tr>\n",
       "      <th>0</th>\n",
       "      <td>Cc1cccc2ccccc12</td>\n",
       "      <td>-3.700</td>\n",
       "    </tr>\n",
       "    <tr>\n",
       "      <th>1</th>\n",
       "      <td>CC(=O)C1(O)CCC2C3CCC4=CC(=O)CCC4(C)C3CCC21C</td>\n",
       "      <td>-3.817</td>\n",
       "    </tr>\n",
       "    <tr>\n",
       "      <th>2</th>\n",
       "      <td>c2ccc1ocnc1c2</td>\n",
       "      <td>-1.160</td>\n",
       "    </tr>\n",
       "    <tr>\n",
       "      <th>3</th>\n",
       "      <td>COc1ccc(cc1)C(c2ccc(OC)cc2)C(Cl)(Cl)Cl</td>\n",
       "      <td>-6.890</td>\n",
       "    </tr>\n",
       "    <tr>\n",
       "      <th>4</th>\n",
       "      <td>Cc1ccc2cc3ccccc3cc2c1</td>\n",
       "      <td>-6.960</td>\n",
       "    </tr>\n",
       "    <tr>\n",
       "      <th>...</th>\n",
       "      <td>...</td>\n",
       "      <td>...</td>\n",
       "    </tr>\n",
       "    <tr>\n",
       "      <th>95</th>\n",
       "      <td>CCCC(O)CCC</td>\n",
       "      <td>-1.400</td>\n",
       "    </tr>\n",
       "    <tr>\n",
       "      <th>96</th>\n",
       "      <td>CC(C)(C)C(=O)C(Oc1ccc(Cl)cc1)n2cncn2</td>\n",
       "      <td>-3.610</td>\n",
       "    </tr>\n",
       "    <tr>\n",
       "      <th>97</th>\n",
       "      <td>c1cnc2c(c1)ccc3ncccc23</td>\n",
       "      <td>-2.680</td>\n",
       "    </tr>\n",
       "    <tr>\n",
       "      <th>98</th>\n",
       "      <td>CCCC(C)(C)CO</td>\n",
       "      <td>-1.520</td>\n",
       "    </tr>\n",
       "    <tr>\n",
       "      <th>99</th>\n",
       "      <td>OCC2OC(OC1(CO)OC(CO)C(O)C1O)C(O)C(O)C2O</td>\n",
       "      <td>0.790</td>\n",
       "    </tr>\n",
       "  </tbody>\n",
       "</table>\n",
       "<p>100 rows × 2 columns</p>\n",
       "</div>"
      ],
      "text/plain": [
       "                                         SMILES  values\n",
       "0                               Cc1cccc2ccccc12  -3.700\n",
       "1   CC(=O)C1(O)CCC2C3CCC4=CC(=O)CCC4(C)C3CCC21C  -3.817\n",
       "2                                 c2ccc1ocnc1c2  -1.160\n",
       "3        COc1ccc(cc1)C(c2ccc(OC)cc2)C(Cl)(Cl)Cl  -6.890\n",
       "4                         Cc1ccc2cc3ccccc3cc2c1  -6.960\n",
       "..                                          ...     ...\n",
       "95                                   CCCC(O)CCC  -1.400\n",
       "96         CC(C)(C)C(=O)C(Oc1ccc(Cl)cc1)n2cncn2  -3.610\n",
       "97                       c1cnc2c(c1)ccc3ncccc23  -2.680\n",
       "98                                 CCCC(C)(C)CO  -1.520\n",
       "99     OCC2OC(OC1(CO)OC(CO)C(O)C1O)C(O)C(O)C2O    0.790\n",
       "\n",
       "[100 rows x 2 columns]"
      ]
     },
     "execution_count": 37,
     "metadata": {},
     "output_type": "execute_result"
    }
   ],
   "source": [
    "full_table = full_table[['smiles', 'measured log solubility in mols per litre']]\n",
    "\n",
    "full_table.columns.values[1] = 'values'\n",
    "full_table.columns.values[0] = 'SMILES'\n",
    "small_table  = full_table.sample(n=100)\n",
    "\n",
    "full_table_without_small = full_table.drop(small_table.index).reset_index(drop=True)\n",
    "small_table.reset_index(drop=True)"
   ]
  },
  {
   "cell_type": "markdown",
   "metadata": {},
   "source": [
    "Dividing the set"
   ]
  },
  {
   "cell_type": "code",
   "execution_count": 38,
   "metadata": {},
   "outputs": [],
   "source": [
    "\n",
    "# preprocessing and dividing the set\n",
    "X= small_table['SMILES']\n",
    "y = small_table['values']\n",
    "X_train, X_test,  y_train, y_test = train_test_split(X, y, test_size=0.2, random_state=0)"
   ]
  },
  {
   "cell_type": "code",
   "execution_count": 39,
   "metadata": {},
   "outputs": [],
   "source": [
    "def generate_the_best_model(x_train, y_train, x_test, y_test ):\n",
    "    \n",
    "    y_train = np.array(y_train.to_list())\n",
    "    y_test = np.array(y_test.to_list())\n",
    "    #list for iteration\n",
    "    '''TSNE_dim_red, need to be inserted on larger dataset, E3FP_fps_repr, PLEC_E3FP_fps_repr '''\n",
    "    fps_repr_func_list = [ RDKIT_fps_repr, Morgan_ECFP_fps_repr,  PLEC_fps_repr, ]\n",
    "    dim_red_func_list = [ no_dim_red, PCA_dim_red,  MDS_dim_red]\n",
    "    dim_sizes_list = [2,10]\n",
    "    MLmodel_func_list = [MLP_Regressor_function,Random_Forest_function,  Linear_Regressor_function, KNeighbors_Regressor_fucntion, SVR_Regressor_fucntion, GaussianProcess_Regressor_function]\n",
    "    cycles_count = 0\n",
    "    mae_dict ={}\n",
    "    model_dict = {}\n",
    "    for fps_repr_func in fps_repr_func_list:\n",
    "        #iterating through list of fps respresenttions fucntions \n",
    "        fps_x_train = fps_repr_func(x_train)\n",
    "        fps_x_valid = fps_repr_func(x_test)\n",
    "        \n",
    "        for dim_red_func in dim_red_func_list:\n",
    "            for dim_size in dim_sizes_list:\n",
    "                red_fps_x_train = dim_red_func(fps_x_train, dim_size)\n",
    "                red_fps_x_valid = dim_red_func(fps_x_valid, dim_size)\n",
    "                \n",
    "\n",
    "\n",
    "                for MLmodel_func  in  MLmodel_func_list:\n",
    "                    \n",
    "                    x = MLmodel_func(red_fps_x_train, y_train, red_fps_x_valid, y_test)\n",
    "                    model_information_tuple  = MLmodel_func.__name__, dim_red_func.__name__,  fps_repr_func.__name__ ,  dim_size\n",
    "                    model_functions_tuple = x[1], dim_red_func, fps_repr_func,  dim_size\n",
    "                    \n",
    "                    model_dict[model_functions_tuple]= x[0]\n",
    "\n",
    "\n",
    "                    cycles_count +=1\n",
    "                    print('cycle_count=', cycles_count)\n",
    "                    \n",
    "    return  model_dict"
   ]
  },
  {
   "cell_type": "code",
   "execution_count": 40,
   "metadata": {},
   "outputs": [
    {
     "name": "stdout",
     "output_type": "stream",
     "text": [
      "cycle_count= 1\n",
      "cycle_count= 2\n",
      "cycle_count= 3\n",
      "cycle_count= 4\n",
      "cycle_count= 5\n",
      "cycle_count= 6\n",
      "cycle_count= 7\n",
      "cycle_count= 8\n",
      "cycle_count= 9\n",
      "cycle_count= 10\n",
      "cycle_count= 11\n",
      "cycle_count= 12\n",
      "cycle_count= 13\n",
      "cycle_count= 14\n",
      "cycle_count= 15\n",
      "cycle_count= 16\n",
      "cycle_count= 17\n",
      "cycle_count= 18\n",
      "cycle_count= 19\n",
      "cycle_count= 20\n",
      "cycle_count= 21\n",
      "cycle_count= 22\n",
      "cycle_count= 23\n",
      "cycle_count= 24\n"
     ]
    },
    {
     "name": "stderr",
     "output_type": "stream",
     "text": [
      "d:\\anaconda\\envs\\jupyter_practice\\Lib\\site-packages\\sklearn\\manifold\\_mds.py:299: FutureWarning: The default value of `normalized_stress` will change to `'auto'` in version 1.4. To suppress this warning, manually set the value of `normalized_stress`.\n",
      "  warnings.warn(\n",
      "d:\\anaconda\\envs\\jupyter_practice\\Lib\\site-packages\\sklearn\\manifold\\_mds.py:299: FutureWarning: The default value of `normalized_stress` will change to `'auto'` in version 1.4. To suppress this warning, manually set the value of `normalized_stress`.\n",
      "  warnings.warn(\n"
     ]
    },
    {
     "name": "stdout",
     "output_type": "stream",
     "text": [
      "cycle_count= 25\n",
      "cycle_count= 26\n",
      "cycle_count= 27\n",
      "cycle_count= 28\n",
      "cycle_count= 29\n",
      "cycle_count= 30\n"
     ]
    },
    {
     "name": "stderr",
     "output_type": "stream",
     "text": [
      "d:\\anaconda\\envs\\jupyter_practice\\Lib\\site-packages\\sklearn\\manifold\\_mds.py:299: FutureWarning: The default value of `normalized_stress` will change to `'auto'` in version 1.4. To suppress this warning, manually set the value of `normalized_stress`.\n",
      "  warnings.warn(\n",
      "d:\\anaconda\\envs\\jupyter_practice\\Lib\\site-packages\\sklearn\\manifold\\_mds.py:299: FutureWarning: The default value of `normalized_stress` will change to `'auto'` in version 1.4. To suppress this warning, manually set the value of `normalized_stress`.\n",
      "  warnings.warn(\n"
     ]
    },
    {
     "name": "stdout",
     "output_type": "stream",
     "text": [
      "cycle_count= 31\n",
      "cycle_count= 32\n",
      "cycle_count= 33\n",
      "cycle_count= 34\n",
      "cycle_count= 35\n",
      "cycle_count= 36\n",
      "cycle_count= 37\n",
      "cycle_count= 38\n",
      "cycle_count= 39\n",
      "cycle_count= 40\n",
      "cycle_count= 41\n"
     ]
    },
    {
     "name": "stderr",
     "output_type": "stream",
     "text": [
      "d:\\anaconda\\envs\\jupyter_practice\\Lib\\site-packages\\sklearn\\gaussian_process\\kernels.py:420: ConvergenceWarning: The optimal value found for dimension 0 of parameter k2__noise_level is close to the specified lower bound 1e-05. Decreasing the bound and calling fit again may find a better value.\n",
      "  warnings.warn(\n"
     ]
    },
    {
     "name": "stdout",
     "output_type": "stream",
     "text": [
      "cycle_count= 42\n",
      "cycle_count= 43\n",
      "cycle_count= 44\n",
      "cycle_count= 45\n",
      "cycle_count= 46\n",
      "cycle_count= 47\n"
     ]
    },
    {
     "name": "stderr",
     "output_type": "stream",
     "text": [
      "d:\\anaconda\\envs\\jupyter_practice\\Lib\\site-packages\\sklearn\\gaussian_process\\kernels.py:420: ConvergenceWarning: The optimal value found for dimension 0 of parameter k2__noise_level is close to the specified lower bound 1e-05. Decreasing the bound and calling fit again may find a better value.\n",
      "  warnings.warn(\n"
     ]
    },
    {
     "name": "stdout",
     "output_type": "stream",
     "text": [
      "cycle_count= 48\n",
      "cycle_count= 49\n",
      "cycle_count= 50\n",
      "cycle_count= 51\n",
      "cycle_count= 52\n",
      "cycle_count= 53\n",
      "cycle_count= 54\n",
      "cycle_count= 55\n",
      "cycle_count= 56\n",
      "cycle_count= 57\n",
      "cycle_count= 58\n",
      "cycle_count= 59\n",
      "cycle_count= 60\n"
     ]
    },
    {
     "name": "stderr",
     "output_type": "stream",
     "text": [
      "d:\\anaconda\\envs\\jupyter_practice\\Lib\\site-packages\\sklearn\\manifold\\_mds.py:299: FutureWarning: The default value of `normalized_stress` will change to `'auto'` in version 1.4. To suppress this warning, manually set the value of `normalized_stress`.\n",
      "  warnings.warn(\n",
      "d:\\anaconda\\envs\\jupyter_practice\\Lib\\site-packages\\sklearn\\manifold\\_mds.py:299: FutureWarning: The default value of `normalized_stress` will change to `'auto'` in version 1.4. To suppress this warning, manually set the value of `normalized_stress`.\n",
      "  warnings.warn(\n"
     ]
    },
    {
     "name": "stdout",
     "output_type": "stream",
     "text": [
      "cycle_count= 61\n",
      "cycle_count= 62\n",
      "cycle_count= 63\n",
      "cycle_count= 64\n",
      "cycle_count= 65\n",
      "cycle_count= 66\n"
     ]
    },
    {
     "name": "stderr",
     "output_type": "stream",
     "text": [
      "d:\\anaconda\\envs\\jupyter_practice\\Lib\\site-packages\\sklearn\\manifold\\_mds.py:299: FutureWarning: The default value of `normalized_stress` will change to `'auto'` in version 1.4. To suppress this warning, manually set the value of `normalized_stress`.\n",
      "  warnings.warn(\n",
      "d:\\anaconda\\envs\\jupyter_practice\\Lib\\site-packages\\sklearn\\manifold\\_mds.py:299: FutureWarning: The default value of `normalized_stress` will change to `'auto'` in version 1.4. To suppress this warning, manually set the value of `normalized_stress`.\n",
      "  warnings.warn(\n"
     ]
    },
    {
     "name": "stdout",
     "output_type": "stream",
     "text": [
      "cycle_count= 67\n",
      "cycle_count= 68\n",
      "cycle_count= 69\n",
      "cycle_count= 70\n",
      "cycle_count= 71\n",
      "cycle_count= 72\n",
      "cycle_count= 73\n",
      "cycle_count= 74\n",
      "cycle_count= 75\n",
      "cycle_count= 76\n",
      "cycle_count= 77\n",
      "cycle_count= 78\n",
      "cycle_count= 79\n",
      "cycle_count= 80\n",
      "cycle_count= 81\n",
      "cycle_count= 82\n",
      "cycle_count= 83\n",
      "cycle_count= 84\n",
      "cycle_count= 85\n",
      "cycle_count= 86\n",
      "cycle_count= 87\n",
      "cycle_count= 88\n",
      "cycle_count= 89\n",
      "cycle_count= 90\n",
      "cycle_count= 91\n",
      "cycle_count= 92\n",
      "cycle_count= 93\n",
      "cycle_count= 94\n",
      "cycle_count= 95\n",
      "cycle_count= 96\n"
     ]
    },
    {
     "name": "stderr",
     "output_type": "stream",
     "text": [
      "d:\\anaconda\\envs\\jupyter_practice\\Lib\\site-packages\\sklearn\\manifold\\_mds.py:299: FutureWarning: The default value of `normalized_stress` will change to `'auto'` in version 1.4. To suppress this warning, manually set the value of `normalized_stress`.\n",
      "  warnings.warn(\n",
      "d:\\anaconda\\envs\\jupyter_practice\\Lib\\site-packages\\sklearn\\manifold\\_mds.py:299: FutureWarning: The default value of `normalized_stress` will change to `'auto'` in version 1.4. To suppress this warning, manually set the value of `normalized_stress`.\n",
      "  warnings.warn(\n"
     ]
    },
    {
     "name": "stdout",
     "output_type": "stream",
     "text": [
      "cycle_count= 97\n",
      "cycle_count= 98\n",
      "cycle_count= 99\n",
      "cycle_count= 100\n",
      "cycle_count= 101\n",
      "cycle_count= 102\n"
     ]
    },
    {
     "name": "stderr",
     "output_type": "stream",
     "text": [
      "d:\\anaconda\\envs\\jupyter_practice\\Lib\\site-packages\\sklearn\\manifold\\_mds.py:299: FutureWarning: The default value of `normalized_stress` will change to `'auto'` in version 1.4. To suppress this warning, manually set the value of `normalized_stress`.\n",
      "  warnings.warn(\n",
      "d:\\anaconda\\envs\\jupyter_practice\\Lib\\site-packages\\sklearn\\manifold\\_mds.py:299: FutureWarning: The default value of `normalized_stress` will change to `'auto'` in version 1.4. To suppress this warning, manually set the value of `normalized_stress`.\n",
      "  warnings.warn(\n"
     ]
    },
    {
     "name": "stdout",
     "output_type": "stream",
     "text": [
      "cycle_count= 103\n",
      "cycle_count= 104\n",
      "cycle_count= 105\n",
      "cycle_count= 106\n",
      "cycle_count= 107\n",
      "cycle_count= 108\n"
     ]
    }
   ],
   "source": [
    "\n",
    "model_dict = generate_the_best_model(X_train, y_train, X_test, y_test)"
   ]
  },
  {
   "cell_type": "code",
   "execution_count": 42,
   "metadata": {},
   "outputs": [],
   "source": [
    "\n",
    "\n",
    "best_model_tuple= find_min_in_dict(model_dict)\n"
   ]
  },
  {
   "cell_type": "code",
   "execution_count": 54,
   "metadata": {},
   "outputs": [
    {
     "data": {
      "text/plain": [
       "0.8589504014731079"
      ]
     },
     "execution_count": 54,
     "metadata": {},
     "output_type": "execute_result"
    }
   ],
   "source": [
    "best_model_tuple[1]"
   ]
  },
  {
   "cell_type": "code",
   "execution_count": 45,
   "metadata": {},
   "outputs": [],
   "source": [
    "chosen_model = best_model_tuple[0][0]\n",
    "chosen_dim_red = best_model_tuple[0][1]\n",
    "chosen_repr_func = best_model_tuple[0][2]\n",
    "dim_chosen_size = best_model_tuple[0][3]"
   ]
  },
  {
   "cell_type": "code",
   "execution_count": 46,
   "metadata": {},
   "outputs": [],
   "source": [
    "X_2= full_table_without_small['SMILES']\n",
    "y_2 = full_table_without_small['values']\n",
    "\n",
    "y_2 = np.array(y_2.to_list())"
   ]
  },
  {
   "cell_type": "code",
   "execution_count": 48,
   "metadata": {},
   "outputs": [],
   "source": [
    "predictions_full_table_without_small = chosen_model.predict(chosen_dim_red (chosen_repr_func(X_2), dim_chosen_size))"
   ]
  },
  {
   "cell_type": "code",
   "execution_count": 49,
   "metadata": {},
   "outputs": [],
   "source": [
    "top_new_small_table = pd.DataFrame({'SMILES':full_table_without_small['SMILES'], \"values\": predictions_full_table_without_small})\n",
    "top_new_small_table = top_new_small_table.sort_values(by='values', ascending=False)\n",
    "top_new_small_table = top_new_small_table.head(100)\n",
    "top_new_small_table.reset_index(drop=True)\n",
    "top_new_small_table.to_csv('new_small_table.csv', index= False)\n"
   ]
  },
  {
   "cell_type": "code",
   "execution_count": 52,
   "metadata": {},
   "outputs": [],
   "source": [
    "mae_2 = mean_absolute_error(predictions_full_table_without_small, y_2)"
   ]
  },
  {
   "cell_type": "code",
   "execution_count": 53,
   "metadata": {},
   "outputs": [
    {
     "data": {
      "text/plain": [
       "1.3810850730091944"
      ]
     },
     "execution_count": 53,
     "metadata": {},
     "output_type": "execute_result"
    }
   ],
   "source": [
    "mae_2"
   ]
  }
 ],
 "metadata": {
  "kernelspec": {
   "display_name": "jupyter_practice",
   "language": "python",
   "name": "jupyter_practice"
  },
  "language_info": {
   "codemirror_mode": {
    "name": "ipython",
    "version": 3
   },
   "file_extension": ".py",
   "mimetype": "text/x-python",
   "name": "python",
   "nbconvert_exporter": "python",
   "pygments_lexer": "ipython3",
   "version": "3.11.5"
  }
 },
 "nbformat": 4,
 "nbformat_minor": 2
}
